{
 "cells": [
  {
   "cell_type": "code",
   "execution_count": 156,
   "metadata": {},
   "outputs": [],
   "source": [
    "import pandas as pd\n",
    "import numpy as np\n",
    "import networkx as nx\n",
    "from itertools import combinations\n",
    "import itertools\n",
    "import json\n",
    "import ast\n",
    "import community as community_louvain\n",
    "from sklearn.neighbors import KNeighborsClassifier\n",
    "from sklearn.ensemble import RandomForestClassifier\n",
    "from sklearn.linear_model import LogisticRegression\n",
    "from sklearn.model_selection import cross_val_score\n",
    "import matplotlib.pyplot as plt"
   ]
  },
  {
   "cell_type": "markdown",
   "metadata": {},
   "source": [
    "# 1. Processing Data and Implementing Network"
   ]
  },
  {
   "cell_type": "code",
   "execution_count": 64,
   "metadata": {},
   "outputs": [],
   "source": [
    "DATA_DIR = '../data/data.csv'\n",
    "ARTIST_DIR = '../data/data_by_artist.csv'\n",
    "data = pd.read_csv(DATA_DIR)"
   ]
  },
  {
   "cell_type": "code",
   "execution_count": 65,
   "metadata": {},
   "outputs": [],
   "source": [
    "def loadGraph(data):\n",
    "    \n",
    "    artist_list = data['artists']\n",
    "    \n",
    "    # Flatten groupings of artists\n",
    "    def flatten_and_map(artist_list):\n",
    "\n",
    "        flattened = set()\n",
    "        for artist_set in artist_list:\n",
    "            tmp_list = ast.literal_eval(artist_set)\n",
    "            for artist in tmp_list:\n",
    "                flattened.add(artist)\n",
    "\n",
    "        sorted_artists = sorted(list(flattened))\n",
    "        indice_map = {}\n",
    "\n",
    "        counter=0\n",
    "        for a in sorted_artists:\n",
    "            indice_map[a] = counter\n",
    "            \n",
    "            counter+=1\n",
    "\n",
    "        return sorted_artists, indice_map\n",
    "    \n",
    "    # Create Adjacency Matrix of Network\n",
    "    def create_matrix(artist_list, ordered_artists, artist_map):\n",
    "    \n",
    "        dimension = len(ordered_artists)\n",
    "        network_matrix = np.zeros((dimension ,dimension))\n",
    "\n",
    "        for artist_set in artist_list:\n",
    "            artists = ast.literal_eval(artist_set)\n",
    "\n",
    "            if len(artists) >= 2:\n",
    "                tuples = combinations(artists, 2)\n",
    "\n",
    "                for pair in tuples:\n",
    "\n",
    "                    artist1 = pair[0]\n",
    "                    artist2 = pair[1]\n",
    "                    u = artist_map[artist1]\n",
    "                    v = artist_map[artist2]\n",
    "                        \n",
    "                    network_matrix[u][v] += 1\n",
    "                    network_matrix[v][u] += 1\n",
    "                    \n",
    "\n",
    "        return network_matrix\n",
    "    \n",
    "    ordered_artists, artist_map = flatten_and_map(artist_list)\n",
    "\n",
    "    \n",
    "    Adj = create_matrix(artist_list, ordered_artists, artist_map)\n",
    "    \n",
    "    G = nx.from_numpy_matrix(Adj, create_using=nx.Graph)\n",
    "    \n",
    "    id_map = {}\n",
    "    for key in artist_map:\n",
    "        num = artist_map[key]\n",
    "        id_map[num] = key\n",
    "        \n",
    "    return G, ordered_artists, artist_map, id_map"
   ]
  },
  {
   "cell_type": "markdown",
   "metadata": {},
   "source": [
    "Calling function to get necessary specs"
   ]
  },
  {
   "cell_type": "code",
   "execution_count": 17,
   "metadata": {},
   "outputs": [],
   "source": [
    "G, artists, artist_map, id_map = loadGraph(data)"
   ]
  },
  {
   "cell_type": "code",
   "execution_count": 34,
   "metadata": {},
   "outputs": [
    {
     "name": "stdout",
     "output_type": "stream",
     "text": [
      "There are 17458 connected components naturally\n"
     ]
    }
   ],
   "source": [
    "cs = nx.connected_components(G)\n",
    "ct = 1\n",
    "for c in cs:\n",
    "    ct+=1\n",
    "print(\"There are\", ct, \"connected components naturally\")"
   ]
  },
  {
   "cell_type": "markdown",
   "metadata": {},
   "source": [
    "_________"
   ]
  },
  {
   "cell_type": "markdown",
   "metadata": {},
   "source": [
    "Finding ideal communities"
   ]
  },
  {
   "cell_type": "code",
   "execution_count": 8,
   "metadata": {},
   "outputs": [],
   "source": [
    "partition = community_louvain.best_partition(G, weight='weight')"
   ]
  },
  {
   "cell_type": "code",
   "execution_count": 36,
   "metadata": {},
   "outputs": [],
   "source": [
    "communities = {}\n",
    "for p in partition:\n",
    "    comm = partition[p]\n",
    "    \n",
    "    if comm not in communities:\n",
    "        communities[comm] = [p]\n",
    "    else:\n",
    "        communities[comm].append(p)"
   ]
  },
  {
   "cell_type": "code",
   "execution_count": 37,
   "metadata": {},
   "outputs": [
    {
     "name": "stdout",
     "output_type": "stream",
     "text": [
      "There are 17528 communities before performing CLAN\n"
     ]
    }
   ],
   "source": [
    "\n",
    "print(\"There are\",len(communities),\"communities before performing CLAN\")"
   ]
  },
  {
   "cell_type": "markdown",
   "metadata": {},
   "source": [
    "# 2. Implement CLAN to put all Nodes within communities of size less than threshold into other communities"
   ]
  },
  {
   "cell_type": "code",
   "execution_count": 207,
   "metadata": {},
   "outputs": [],
   "source": [
    "def getKeptClans(train, partitions):\n",
    "    clans = {}\n",
    "    \n",
    "    for t in train:\n",
    "        part = partitions[t]\n",
    "        \n",
    "        if part not in clans:\n",
    "           \n",
    "            clans[part] = [t]\n",
    "        else:\n",
    "            clans[part].append(t)\n",
    "            \n",
    "    return clans\n",
    "\n",
    "def CLAN(G, partitions, communities, artist_map, min_threshold, max_threshold, data_link):\n",
    "    # Declare arrays for both train and test nodes\n",
    "    train = []\n",
    "    test = []\n",
    "    \n",
    "    print('Clans before trimming:', len(communities))\n",
    "    for c in communities:\n",
    "        \n",
    "        community = communities[c]  \n",
    "        \n",
    "        size = len(community)\n",
    "        \n",
    "       \n",
    "        # If community is big enough, add those nodes into the train set\n",
    "        if size > min_threshold and size < max_threshold:\n",
    "            \n",
    "            for member in community:\n",
    "                train.append(member)\n",
    "        \n",
    "        # If too small, add to test to then later assign trained labels\n",
    "        else:\n",
    "            \n",
    "             for member in community:\n",
    "                test.append(member)\n",
    "                \n",
    "        \n",
    "    print('Size of training set:', len(train))\n",
    "    print('Size of testing set:', len(test))\n",
    "    # Create train dataframe\n",
    "    tmp_artist_df = pd.read_csv(data_link)\n",
    "    \n",
    "    metrics = ['artists','instrumentalness', 'loudness', 'duration_ms', 'acousticness', \n",
    "               'liveness', 'speechiness', 'danceability']\n",
    "    \n",
    "    artist_df = tmp_artist_df[metrics]\n",
    "    \n",
    "    artist_df['artists'] = artist_df['artists'].apply(lambda x: artist_map[x])\n",
    "    \n",
    "    \n",
    "    train_df = artist_df[artist_df['artists'].isin(train)]\n",
    "\n",
    "    train_df['community'] = train_df['artists'].apply(lambda x: partitions[x])\n",
    "    \n",
    "    # Build model, and train\n",
    "    X = train_df.drop(['artists','community'], axis=1)\n",
    "    y = train_df['community']\n",
    "    \n",
    "    print('Clans after trimming:',len(y.unique()))\n",
    "    \n",
    "    \n",
    "    # Training RFC Model\n",
    "    clf = RandomForestClassifier(max_depth=12, random_state=0)\n",
    "    clf.fit(X, y)\n",
    "    \n",
    "    \n",
    "    scores = cross_val_score(clf, X, y, cv=5)\n",
    "    print(\"%0.2f accuracy of RFC with a standard deviation of %0.2f\" % (scores.mean(), scores.std()))\n",
    "    \n",
    "    \n",
    "    \n",
    "    # Test model on test set\n",
    "    \n",
    "    test_df = artist_df[artist_df['artists'].isin(test)]\n",
    "    \n",
    "    X_test = test_df.drop('artists',axis=1)\n",
    "    test_df['community'] = clf.predict(X_test)\n",
    "    \n",
    "    # Add nodes to predicted communities\n",
    "    to_add = dict(zip(test_df.artists, test_df.community))\n",
    "    \n",
    "    clans = getKeptClans(train, partitions)\n",
    "    \n",
    "    for add in to_add:\n",
    "        clan = to_add[add]\n",
    "        \n",
    "        clans[clan].append(add)\n",
    "    \n",
    "    return clans\n",
    "    \n",
    "   "
   ]
  },
  {
   "cell_type": "markdown",
   "metadata": {},
   "source": [
    "## Next step for me is too finetune the community detection to penalize large communities or downsample training data of large communities..."
   ]
  },
  {
   "cell_type": "code",
   "execution_count": 208,
   "metadata": {},
   "outputs": [
    {
     "name": "stdout",
     "output_type": "stream",
     "text": [
      "Clans before trimming: 17528\n",
      "Size of training set: 3358\n",
      "Size of testing set: 29182\n",
      "Clans after trimming: 44\n"
     ]
    },
    {
     "name": "stderr",
     "output_type": "stream",
     "text": [
      "/Users/griffinweinhold/opt/anaconda3/lib/python3.7/site-packages/ipykernel_launcher.py:51: SettingWithCopyWarning: \n",
      "A value is trying to be set on a copy of a slice from a DataFrame.\n",
      "Try using .loc[row_indexer,col_indexer] = value instead\n",
      "\n",
      "See the caveats in the documentation: https://pandas.pydata.org/pandas-docs/stable/user_guide/indexing.html#returning-a-view-versus-a-copy\n",
      "/Users/griffinweinhold/opt/anaconda3/lib/python3.7/site-packages/ipykernel_launcher.py:56: SettingWithCopyWarning: \n",
      "A value is trying to be set on a copy of a slice from a DataFrame.\n",
      "Try using .loc[row_indexer,col_indexer] = value instead\n",
      "\n",
      "See the caveats in the documentation: https://pandas.pydata.org/pandas-docs/stable/user_guide/indexing.html#returning-a-view-versus-a-copy\n"
     ]
    },
    {
     "name": "stdout",
     "output_type": "stream",
     "text": [
      "0.59 accuracy of RFC with a standard deviation of 0.01\n"
     ]
    },
    {
     "name": "stderr",
     "output_type": "stream",
     "text": [
      "/Users/griffinweinhold/opt/anaconda3/lib/python3.7/site-packages/ipykernel_launcher.py:80: SettingWithCopyWarning: \n",
      "A value is trying to be set on a copy of a slice from a DataFrame.\n",
      "Try using .loc[row_indexer,col_indexer] = value instead\n",
      "\n",
      "See the caveats in the documentation: https://pandas.pydata.org/pandas-docs/stable/user_guide/indexing.html#returning-a-view-versus-a-copy\n"
     ]
    }
   ],
   "source": [
    "min_threshold = 20\n",
    "max_threshold = 300\n",
    "clans = CLAN(G, partition, communities, artist_map, min_threshold, max_threshold, ARTIST_DIR)\n"
   ]
  },
  {
   "cell_type": "markdown",
   "metadata": {},
   "source": [
    "# 3. Analyzing our CLANs"
   ]
  },
  {
   "cell_type": "code",
   "execution_count": 203,
   "metadata": {},
   "outputs": [
    {
     "data": {
      "image/png": "[encoded data removed]",
      "text/plain": [
       "<Figure size 432x288 with 1 Axes>"
      ]
     },
     "metadata": {
      "needs_background": "light"
     },
     "output_type": "display_data"
    }
   ],
   "source": [
    "totals = []\n",
    "for c in clans:\n",
    "    totals.append(len(clans[c]))\n",
    "\n",
    "freq = {} \n",
    "for item in totals: \n",
    "    if (item in freq): \n",
    "        freq[item] += 1\n",
    "    else: \n",
    "        freq[item] = 1\n",
    "\n",
    "sorted_freq = dict(sorted(freq.items()))\n",
    "\n",
    "plt.plot(np.log(list(sorted_freq.keys())),np.log(list(sorted_freq.values())))\n",
    "\n",
    "plt.xlabel('(log) Clan Size')\n",
    "plt.ylabel('(log) Number of Clans')\n",
    "plt.title('Most Clans are Smaller')\n",
    "plt.show()\n"
   ]
  },
  {
   "cell_type": "markdown",
   "metadata": {},
   "source": [
    "It is clear that most clans remain on the smaller side, which is ideal with so that music is more tailored and less general. However will be interesting to see if that means most artists are just automatically added to largest communities..."
   ]
  },
  {
   "cell_type": "code",
   "execution_count": 204,
   "metadata": {},
   "outputs": [
    {
     "data": {
      "text/plain": [
       "{24: 1,\n",
       " 32: 1,\n",
       " 41: 1,\n",
       " 45: 1,\n",
       " 52: 1,\n",
       " 54: 1,\n",
       " 56: 1,\n",
       " 59: 1,\n",
       " 65: 1,\n",
       " 78: 1,\n",
       " 91: 1,\n",
       " 100: 1,\n",
       " 101: 1,\n",
       " 116: 1,\n",
       " 117: 1,\n",
       " 143: 1,\n",
       " 144: 1,\n",
       " 171: 1,\n",
       " 193: 1,\n",
       " 227: 1,\n",
       " 249: 1,\n",
       " 265: 1,\n",
       " 333: 1,\n",
       " 355: 1,\n",
       " 382: 1,\n",
       " 386: 1,\n",
       " 451: 1,\n",
       " 455: 1,\n",
       " 457: 1,\n",
       " 515: 1,\n",
       " 554: 1,\n",
       " 639: 1,\n",
       " 702: 1,\n",
       " 742: 1,\n",
       " 852: 1,\n",
       " 936: 1,\n",
       " 1242: 1,\n",
       " 1750: 1,\n",
       " 2156: 1,\n",
       " 2372: 1,\n",
       " 2670: 1,\n",
       " 3764: 1,\n",
       " 4172: 1,\n",
       " 4231: 1}"
      ]
     },
     "execution_count": 204,
     "metadata": {},
     "output_type": "execute_result"
    }
   ],
   "source": [
    "sorted_freq"
   ]
  },
  {
   "cell_type": "code",
   "execution_count": null,
   "metadata": {},
   "outputs": [],
   "source": []
  }
 ],
 "metadata": {
  "kernelspec": {
   "display_name": "Python 3",
   "language": "python",
   "name": "python3"
  },
  "language_info": {
   "codemirror_mode": {
    "name": "ipython",
    "version": 3
   },
   "file_extension": ".py",
   "mimetype": "text/x-python",
   "name": "python",
   "nbconvert_exporter": "python",
   "pygments_lexer": "ipython3",
   "version": "3.7.6"
  }
 },
 "nbformat": 4,
 "nbformat_minor": 4
}
